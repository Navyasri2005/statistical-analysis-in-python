{
 "cells": [
  {
   "cell_type": "markdown",
   "id": "b0701a24-4d4f-4f53-892d-17304dfbfc20",
   "metadata": {},
   "source": [
    "# LAB SESSION 6\n"
   ]
  },
  {
   "cell_type": "code",
   "execution_count": 1,
   "id": "11409403-2c86-40cb-8283-b17f1f32fc06",
   "metadata": {},
   "outputs": [
    {
     "name": "stdout",
     "output_type": "stream",
     "text": [
      "        age       sex       bmi        bp        s1        s2        s3  \\\n",
      "0  0.038076  0.050680  0.061696  0.021872 -0.044223 -0.034821 -0.043401   \n",
      "1 -0.001882 -0.044642 -0.051474 -0.026328 -0.008449 -0.019163  0.074412   \n",
      "2  0.085299  0.050680  0.044451 -0.005670 -0.045599 -0.034194 -0.032356   \n",
      "3 -0.089063 -0.044642 -0.011595 -0.036656  0.012191  0.024991 -0.036038   \n",
      "4  0.005383 -0.044642 -0.036385  0.021872  0.003935  0.015596  0.008142   \n",
      "\n",
      "         s4        s5        s6  target  \n",
      "0 -0.002592  0.019907 -0.017646   151.0  \n",
      "1 -0.039493 -0.068332 -0.092204    75.0  \n",
      "2 -0.002592  0.002861 -0.025930   141.0  \n",
      "3  0.034309  0.022688 -0.009362   206.0  \n",
      "4 -0.002592 -0.031988 -0.046641   135.0  \n"
     ]
    }
   ],
   "source": [
    "import pandas as pd\n",
    "from sklearn.datasets import load_diabetes\n",
    "\n",
    "# Load the dataset\n",
    "diabetes = load_diabetes()\n",
    "df = pd.DataFrame(data=diabetes.data, columns=diabetes.feature_names)\n",
    "df['target'] = diabetes.target\n",
    "\n",
    "# Display the first few rows\n",
    "print(df.head())"
   ]
  },
  {
   "cell_type": "code",
   "execution_count": 2,
   "id": "d9540a9f-4d9f-4466-a261-eee474a606e1",
   "metadata": {},
   "outputs": [
    {
     "name": "stdout",
     "output_type": "stream",
     "text": [
      "Mean:\n",
      " age      -1.444295e-18\n",
      "sex       2.543215e-18\n",
      "bmi      -2.255925e-16\n",
      "bp       -4.854086e-17\n",
      "s1       -1.428596e-17\n",
      "s2        3.898811e-17\n",
      "s3       -6.028360e-18\n",
      "s4       -1.788100e-17\n",
      "s5        9.243486e-17\n",
      "s6        1.351770e-17\n",
      "target    1.521335e+02\n",
      "dtype: float64\n",
      "\n",
      "Median:\n",
      " age         0.005383\n",
      "sex        -0.044642\n",
      "bmi        -0.007284\n",
      "bp         -0.005670\n",
      "s1         -0.004321\n",
      "s2         -0.003819\n",
      "s3         -0.006584\n",
      "s4         -0.002592\n",
      "s5         -0.001947\n",
      "s6         -0.001078\n",
      "target    140.500000\n",
      "dtype: float64\n",
      "\n",
      "Mode:\n",
      " age        0.016281\n",
      "sex       -0.044642\n",
      "bmi       -0.030996\n",
      "bp        -0.040099\n",
      "s1        -0.037344\n",
      "s2        -0.001001\n",
      "s3        -0.013948\n",
      "s4        -0.039493\n",
      "s5        -0.018114\n",
      "s6         0.003064\n",
      "target    72.000000\n",
      "Name: 0, dtype: float64\n",
      "\n",
      "Standard Deviation:\n",
      " age        0.047619\n",
      "sex        0.047619\n",
      "bmi        0.047619\n",
      "bp         0.047619\n",
      "s1         0.047619\n",
      "s2         0.047619\n",
      "s3         0.047619\n",
      "s4         0.047619\n",
      "s5         0.047619\n",
      "s6         0.047619\n",
      "target    77.093005\n",
      "dtype: float64\n",
      "\n",
      "Variance:\n",
      " age          0.002268\n",
      "sex          0.002268\n",
      "bmi          0.002268\n",
      "bp           0.002268\n",
      "s1           0.002268\n",
      "s2           0.002268\n",
      "s3           0.002268\n",
      "s4           0.002268\n",
      "s5           0.002268\n",
      "s6           0.002268\n",
      "target    5943.331348\n",
      "dtype: float64\n",
      "\n",
      "Range:\n",
      " age         0.217952\n",
      "sex         0.095322\n",
      "bmi         0.260831\n",
      "bp          0.244442\n",
      "s1          0.280694\n",
      "s2          0.314401\n",
      "s3          0.283486\n",
      "s4          0.261629\n",
      "s5          0.259694\n",
      "s6          0.273379\n",
      "target    321.000000\n",
      "dtype: float64\n",
      "\n",
      "Skewness:\n",
      " age      -0.231382\n",
      "sex       0.127385\n",
      "bmi       0.598148\n",
      "bp        0.290658\n",
      "s1        0.378108\n",
      "s2        0.436592\n",
      "s3        0.799255\n",
      "s4        0.735374\n",
      "s5        0.291754\n",
      "s6        0.207917\n",
      "target    0.440563\n",
      "dtype: float64\n",
      "\n",
      "Kurtosis:\n",
      " age      -0.671224\n",
      "sex      -1.992811\n",
      "bmi       0.095094\n",
      "bp       -0.532797\n",
      "s1        0.232948\n",
      "s2        0.601381\n",
      "s3        0.981507\n",
      "s4        0.444402\n",
      "s5       -0.134367\n",
      "s6        0.236917\n",
      "target   -0.883057\n",
      "dtype: float64\n"
     ]
    }
   ],
   "source": [
    "# Calculate basic descriptive statistics\n",
    "print(\"Mean:\\n\", df.mean())\n",
    "print(\"\\nMedian:\\n\", df.median())\n",
    "print(\"\\nMode:\\n\", df.mode().iloc[0])\n",
    "print(\"\\nStandard Deviation:\\n\", df.std())\n",
    "print(\"\\nVariance:\\n\", df.var())\n",
    "\n",
    "# Additional descriptive statistics\n",
    "print(\"\\nRange:\\n\", df.max() - df.min())\n",
    "print(\"\\nSkewness:\\n\", df.skew())\n",
    "print(\"\\nKurtosis:\\n\", df.kurt())"
   ]
  },
  {
   "cell_type": "code",
   "execution_count": 3,
   "id": "c5c8085f-0861-4f90-b2a2-2a94cfff334a",
   "metadata": {},
   "outputs": [
    {
     "name": "stdout",
     "output_type": "stream",
     "text": [
      "T-Statistic: -22.074985843710174\n",
      "P-Value: 2.7634312235044638e-73\n"
     ]
    }
   ],
   "source": [
    "from scipy import stats\n",
    "\n",
    "# Example data: BMI values\n",
    "bmi_values = df['bmi']\n",
    "\n",
    "# Hypothetical population mean for BMI\n",
    "population_mean = 0.05\n",
    "\n",
    "# Perform one-sample t-test\n",
    "t_stat, p_value = stats.ttest_1samp(bmi_values, population_mean)\n",
    "\n",
    "print(f\"T-Statistic: {t_stat}\")\n",
    "print(f\"P-Value: {p_value}\")"
   ]
  },
  {
   "cell_type": "code",
   "execution_count": 4,
   "id": "a7f0b585-8995-4aac-b30c-2080305cf73e",
   "metadata": {},
   "outputs": [
    {
     "name": "stdout",
     "output_type": "stream",
     "text": [
      "95% Confidence Interval for BMI: (-0.004439332370169141, 0.0044393323701686915)\n"
     ]
    }
   ],
   "source": [
    "import numpy as np\n",
    "from scipy import stats\n",
    "\n",
    "# Sample mean and standard error for BMI\n",
    "sample_mean = np.mean(bmi_values)\n",
    "standard_error = stats.sem(bmi_values)\n",
    "\n",
    "# Compute 95% confidence interval for BMI\n",
    "confidence_interval = stats.norm.interval(0.95, loc=sample_mean, scale=standard_error)\n",
    "\n",
    "print(f\"95% Confidence Interval for BMI: {confidence_interval}\")"
   ]
  },
  {
   "cell_type": "code",
   "execution_count": 5,
   "id": "515c1408-2224-4039-9f31-bfd9ca304126",
   "metadata": {},
   "outputs": [
    {
     "name": "stdout",
     "output_type": "stream",
     "text": [
      "                            OLS Regression Results                            \n",
      "==============================================================================\n",
      "Dep. Variable:                 target   R-squared:                       0.344\n",
      "Model:                            OLS   Adj. R-squared:                  0.342\n",
      "Method:                 Least Squares   F-statistic:                     230.7\n",
      "Date:                Sun, 08 Sep 2024   Prob (F-statistic):           3.47e-42\n",
      "Time:                        19:50:57   Log-Likelihood:                -2454.0\n",
      "No. Observations:                 442   AIC:                             4912.\n",
      "Df Residuals:                     440   BIC:                             4920.\n",
      "Df Model:                           1                                         \n",
      "Covariance Type:            nonrobust                                         \n",
      "==============================================================================\n",
      "                 coef    std err          t      P>|t|      [0.025      0.975]\n",
      "------------------------------------------------------------------------------\n",
      "const        152.1335      2.974     51.162      0.000     146.289     157.978\n",
      "bmi          949.4353     62.515     15.187      0.000     826.570    1072.301\n",
      "==============================================================================\n",
      "Omnibus:                       11.674   Durbin-Watson:                   1.848\n",
      "Prob(Omnibus):                  0.003   Jarque-Bera (JB):                7.310\n",
      "Skew:                           0.156   Prob(JB):                       0.0259\n",
      "Kurtosis:                       2.453   Cond. No.                         21.0\n",
      "==============================================================================\n",
      "\n",
      "Notes:\n",
      "[1] Standard Errors assume that the covariance matrix of the errors is correctly specified.\n"
     ]
    }
   ],
   "source": [
    "import statsmodels.api as sm\n",
    "\n",
    "# Define independent variable (add constant for intercept)\n",
    "X = sm.add_constant(df['bmi'])\n",
    "\n",
    "# Define dependent variable\n",
    "y = df['target']\n",
    "\n",
    "# Fit linear regression model\n",
    "model = sm.OLS(y, X).fit()\n",
    "\n",
    "# Print model summary\n",
    "print(model.summary())"
   ]
  },
  {
   "cell_type": "markdown",
   "id": "3de3426e-f34d-4d49-9525-c2e8b27435e8",
   "metadata": {},
   "source": [
    "# EXERCISE 5.1"
   ]
  },
  {
   "cell_type": "markdown",
   "id": "d2e69237-854d-4472-8bd0-95a765878891",
   "metadata": {},
   "source": [
    "# Step 1: Download the dataset\n",
    "Dataset:\n",
    "Kaggle URL:https://www.kaggle.com/datasets/redwankarimsony/heart-disease-data\n",
    "\n",
    "Follow these steps to download the dataset:\n",
    "\n",
    "Visit the link above.\n",
    "Sign in to your Kaggle account (if you don’t have one, create it).\n",
    "Click the Download button to get the dataset.\n",
    "Once downloaded, extract the .csv file from the zipped folder."
   ]
  },
  {
   "cell_type": "markdown",
   "id": "abab47e4-ee7f-46fb-9460-90efad369b26",
   "metadata": {},
   "source": [
    "# Step 2:Import Libraries"
   ]
  },
  {
   "cell_type": "code",
   "execution_count": 1,
   "id": "df58ddcb-6282-4a9b-8e2f-1d28c65662a3",
   "metadata": {},
   "outputs": [],
   "source": [
    "import pandas as pd\n",
    "import numpy as np\n",
    "from scipy import stats"
   ]
  },
  {
   "cell_type": "markdown",
   "id": "ba9784de-cf22-42fe-9790-a498348fcc70",
   "metadata": {},
   "source": [
    "*pandas: For loading and handling the dataset.\n",
    "\n",
    "*numpy: For basic mathematical operations.\n",
    "\n",
    "*scipy.stats: For statistical analysis like hypothesis testing."
   ]
  },
  {
   "cell_type": "markdown",
   "id": "37951ec2-d08e-499a-b631-1d386f7acace",
   "metadata": {},
   "source": [
    "# Step 3: Load the data\n",
    "Assume the dataset is named heart.csv.\n"
   ]
  },
  {
   "cell_type": "code",
   "execution_count": 24,
   "id": "88707f0e-1a57-4b67-99ab-3a741c2121f9",
   "metadata": {},
   "outputs": [
    {
     "data": {
      "text/html": [
       "<div>\n",
       "<style scoped>\n",
       "    .dataframe tbody tr th:only-of-type {\n",
       "        vertical-align: middle;\n",
       "    }\n",
       "\n",
       "    .dataframe tbody tr th {\n",
       "        vertical-align: top;\n",
       "    }\n",
       "\n",
       "    .dataframe thead th {\n",
       "        text-align: right;\n",
       "    }\n",
       "</style>\n",
       "<table border=\"1\" class=\"dataframe\">\n",
       "  <thead>\n",
       "    <tr style=\"text-align: right;\">\n",
       "      <th></th>\n",
       "      <th>id</th>\n",
       "      <th>age</th>\n",
       "      <th>sex</th>\n",
       "      <th>dataset</th>\n",
       "      <th>cp</th>\n",
       "      <th>trestbps</th>\n",
       "      <th>chol</th>\n",
       "      <th>fbs</th>\n",
       "      <th>restecg</th>\n",
       "      <th>thalch</th>\n",
       "      <th>exang</th>\n",
       "      <th>oldpeak</th>\n",
       "      <th>slope</th>\n",
       "      <th>ca</th>\n",
       "      <th>thal</th>\n",
       "      <th>num</th>\n",
       "    </tr>\n",
       "  </thead>\n",
       "  <tbody>\n",
       "    <tr>\n",
       "      <th>0</th>\n",
       "      <td>1</td>\n",
       "      <td>63</td>\n",
       "      <td>Male</td>\n",
       "      <td>Cleveland</td>\n",
       "      <td>typical angina</td>\n",
       "      <td>145.0</td>\n",
       "      <td>233.0</td>\n",
       "      <td>True</td>\n",
       "      <td>lv hypertrophy</td>\n",
       "      <td>150.0</td>\n",
       "      <td>False</td>\n",
       "      <td>2.3</td>\n",
       "      <td>downsloping</td>\n",
       "      <td>0.0</td>\n",
       "      <td>fixed defect</td>\n",
       "      <td>0</td>\n",
       "    </tr>\n",
       "    <tr>\n",
       "      <th>1</th>\n",
       "      <td>2</td>\n",
       "      <td>67</td>\n",
       "      <td>Male</td>\n",
       "      <td>Cleveland</td>\n",
       "      <td>asymptomatic</td>\n",
       "      <td>160.0</td>\n",
       "      <td>286.0</td>\n",
       "      <td>False</td>\n",
       "      <td>lv hypertrophy</td>\n",
       "      <td>108.0</td>\n",
       "      <td>True</td>\n",
       "      <td>1.5</td>\n",
       "      <td>flat</td>\n",
       "      <td>3.0</td>\n",
       "      <td>normal</td>\n",
       "      <td>2</td>\n",
       "    </tr>\n",
       "    <tr>\n",
       "      <th>2</th>\n",
       "      <td>3</td>\n",
       "      <td>67</td>\n",
       "      <td>Male</td>\n",
       "      <td>Cleveland</td>\n",
       "      <td>asymptomatic</td>\n",
       "      <td>120.0</td>\n",
       "      <td>229.0</td>\n",
       "      <td>False</td>\n",
       "      <td>lv hypertrophy</td>\n",
       "      <td>129.0</td>\n",
       "      <td>True</td>\n",
       "      <td>2.6</td>\n",
       "      <td>flat</td>\n",
       "      <td>2.0</td>\n",
       "      <td>reversable defect</td>\n",
       "      <td>1</td>\n",
       "    </tr>\n",
       "    <tr>\n",
       "      <th>3</th>\n",
       "      <td>4</td>\n",
       "      <td>37</td>\n",
       "      <td>Male</td>\n",
       "      <td>Cleveland</td>\n",
       "      <td>non-anginal</td>\n",
       "      <td>130.0</td>\n",
       "      <td>250.0</td>\n",
       "      <td>False</td>\n",
       "      <td>normal</td>\n",
       "      <td>187.0</td>\n",
       "      <td>False</td>\n",
       "      <td>3.5</td>\n",
       "      <td>downsloping</td>\n",
       "      <td>0.0</td>\n",
       "      <td>normal</td>\n",
       "      <td>0</td>\n",
       "    </tr>\n",
       "    <tr>\n",
       "      <th>4</th>\n",
       "      <td>5</td>\n",
       "      <td>41</td>\n",
       "      <td>Female</td>\n",
       "      <td>Cleveland</td>\n",
       "      <td>atypical angina</td>\n",
       "      <td>130.0</td>\n",
       "      <td>204.0</td>\n",
       "      <td>False</td>\n",
       "      <td>lv hypertrophy</td>\n",
       "      <td>172.0</td>\n",
       "      <td>False</td>\n",
       "      <td>1.4</td>\n",
       "      <td>upsloping</td>\n",
       "      <td>0.0</td>\n",
       "      <td>normal</td>\n",
       "      <td>0</td>\n",
       "    </tr>\n",
       "  </tbody>\n",
       "</table>\n",
       "</div>"
      ],
      "text/plain": [
       "   id  age     sex    dataset               cp  trestbps   chol    fbs  \\\n",
       "0   1   63    Male  Cleveland   typical angina     145.0  233.0   True   \n",
       "1   2   67    Male  Cleveland     asymptomatic     160.0  286.0  False   \n",
       "2   3   67    Male  Cleveland     asymptomatic     120.0  229.0  False   \n",
       "3   4   37    Male  Cleveland      non-anginal     130.0  250.0  False   \n",
       "4   5   41  Female  Cleveland  atypical angina     130.0  204.0  False   \n",
       "\n",
       "          restecg  thalch  exang  oldpeak        slope   ca  \\\n",
       "0  lv hypertrophy   150.0  False      2.3  downsloping  0.0   \n",
       "1  lv hypertrophy   108.0   True      1.5         flat  3.0   \n",
       "2  lv hypertrophy   129.0   True      2.6         flat  2.0   \n",
       "3          normal   187.0  False      3.5  downsloping  0.0   \n",
       "4  lv hypertrophy   172.0  False      1.4    upsloping  0.0   \n",
       "\n",
       "                thal  num  \n",
       "0       fixed defect    0  \n",
       "1             normal    2  \n",
       "2  reversable defect    1  \n",
       "3             normal    0  \n",
       "4             normal    0  "
      ]
     },
     "execution_count": 24,
     "metadata": {},
     "output_type": "execute_result"
    }
   ],
   "source": [
    "# Load the dataset\n",
    "df = pd.read_csv(\"Heart.csv\")\n",
    "\n",
    "# Display the first few rows of the dataset\n",
    "df.head()"
   ]
  },
  {
   "cell_type": "markdown",
   "id": "01197b4a-a27e-4540-b788-75d6563f2e56",
   "metadata": {},
   "source": [
    "*pd.read_csv(): This function loads the CSV dataset into a pandas DataFrame.\n",
    "\n",
    "*Replace \"Heart.csv\" with the actual path to your dataset."
   ]
  },
  {
   "cell_type": "markdown",
   "id": "803572e0-2e9c-43fc-913e-ab1489131436",
   "metadata": {},
   "source": [
    "# Step 4: Descriptive Statistics\n",
    "Let's calculate the mean, median, mode, standard deviation, and variance for all numeric features."
   ]
  },
  {
   "cell_type": "code",
   "execution_count": 27,
   "id": "69d745c4-279f-443d-9624-d970e921b497",
   "metadata": {},
   "outputs": [
    {
     "name": "stdout",
     "output_type": "stream",
     "text": [
      "Resting Blood Pressure: mean=132.13240418118468, median=130.0, mode=120.0, std=19.066069518587458, var=363.51500688760973\n",
      "Cholesterol: mean=199.13033707865168, median=223.0, mode=0.0, std=110.78081035323044, var=12272.387942518408\n"
     ]
    }
   ],
   "source": [
    "# Summary statistics for resting blood pressure and cholesterol\n",
    "mean_bp = df['trestbps'].mean()\n",
    "median_bp = df['trestbps'].median()\n",
    "mode_bp = df['trestbps'].mode()[0]\n",
    "std_bp = df['trestbps'].std()\n",
    "var_bp = df['trestbps'].var()\n",
    "\n",
    "mean_chol = df['chol'].mean()\n",
    "median_chol = df['chol'].median()\n",
    "mode_chol = df['chol'].mode()[0]\n",
    "std_chol = df['chol'].std()\n",
    "var_chol = df['chol'].var()\n",
    "\n",
    "print(f\"Resting Blood Pressure: mean={mean_bp}, median={median_bp}, mode={mode_bp}, std={std_bp}, var={var_bp}\")\n",
    "print(f\"Cholesterol: mean={mean_chol}, median={median_chol}, mode={mode_chol}, std={std_chol}, var={var_chol}\")"
   ]
  },
  {
   "cell_type": "markdown",
   "id": "cb82d5d4-58d7-4fe4-992f-88d88ed880e3",
   "metadata": {},
   "source": [
    "mean(): Calculates the mean.\n",
    "\n",
    "median(): Computes the median.\n",
    "\n",
    "mode(): Returns the mode (most frequent value). We use .iloc[0] to get the first mode in case of multiple modes.\n",
    "\n",
    "std(): Calculates the standard deviation.\n",
    "\n",
    "var(): Computes the variance."
   ]
  },
  {
   "cell_type": "markdown",
   "id": "282e16da-cbbc-41bc-8112-83d061b6df04",
   "metadata": {},
   "source": [
    "# Step 5: Hypothesis Testing\n",
    "Let’s test if the average cholesterol level in the dataset is significantly different from a hypothesized value, say 200 mg/dL. This will be a two-tailed t-test.\n",
    "\n",
    "Null Hypothesis: The average cholesterol level is 200 mg/dL."
   ]
  },
  {
   "cell_type": "code",
   "execution_count": 31,
   "id": "11bdffb1-22ad-41aa-aed2-9b541d56db5f",
   "metadata": {},
   "outputs": [
    {
     "name": "stdout",
     "output_type": "stream",
     "text": [
      "t-statistic: -0.23419704968156604, p-value: 0.8148859285821939\n",
      "Fail to reject the null hypothesis: No significant difference from 200 mg/dL.\n"
     ]
    }
   ],
   "source": [
    "# Null hypothesis: The mean cholesterol level is 200 mg/dL\n",
    "# Alternative hypothesis: The mean cholesterol level is different from 200 mg/dL\n",
    "population_mean = 200\n",
    "chol_values = df['chol'].dropna()\n",
    "\n",
    "t_stat, p_value = stats.ttest_1samp(chol_values, population_mean)\n",
    "\n",
    "print(f\"t-statistic: {t_stat}, p-value: {p_value}\")\n",
    "\n",
    "# If p-value < 0.05, we reject the null hypothesis\n",
    "if p_value < 0.05:\n",
    "    print(\"Reject the null hypothesis: The average cholesterol level is significantly different from 200 mg/dL.\")\n",
    "else:\n",
    "    print(\"Fail to reject the null hypothesis: No significant difference from 200 mg/dL.\")\n"
   ]
  },
  {
   "cell_type": "markdown",
   "id": "25f25d23-9171-4f0d-8522-a505da518011",
   "metadata": {},
   "source": [
    "ttest_1samp(): Conducts a one-sample t-test. It compares the sample mean to the hypothesized population mean.\n",
    "\n",
    "The output is a t-statistic and p-value. A p-value less than 0.05 indicates that we can reject the null hypothesis."
   ]
  },
  {
   "cell_type": "markdown",
   "id": "d1ce807c-11aa-4e60-8bd4-60d4540a8138",
   "metadata": {},
   "source": [
    "# Step 6: 95% Confidence Interval\n",
    "We’ll compute the 95% confidence interval for the mean of the cholesterol levels.\n",
    "\n"
   ]
  },
  {
   "cell_type": "code",
   "execution_count": 32,
   "id": "d0cecdaa-0be0-46b0-881a-8badb0016d11",
   "metadata": {},
   "outputs": [
    {
     "name": "stdout",
     "output_type": "stream",
     "text": [
      "95% confidence interval for mean cholesterol: (191.84232133865973, 206.41835281864363)\n"
     ]
    }
   ],
   "source": [
    "\n",
    "# Calculate the mean and standard error of the mean for cholesterol\n",
    "mean_chol = np.mean(chol_values)\n",
    "std_error = stats.sem(chol_values)\n",
    "\n",
    "# Compute the confidence interval\n",
    "confidence_interval = stats.t.interval(0.95, len(chol_values)-1, loc=mean_chol, scale=std_error)\n",
    "\n",
    "print(f\"95% confidence interval for mean cholesterol: {confidence_interval}\")\n"
   ]
  },
  {
   "cell_type": "markdown",
   "id": "a383e640-8130-488a-9932-eaa7ae9ab94e",
   "metadata": {},
   "source": [
    "sem(): Computes the standard error of the mean.\n",
    "\n",
    "t.interval(): Calculates the confidence interval given a confidence level (0.95 for 95%)."
   ]
  },
  {
   "cell_type": "markdown",
   "id": "a2c1a4d6-a83f-4636-be5c-c6832b5e68c9",
   "metadata": {},
   "source": [
    "# EXERCISE 5.2"
   ]
  },
  {
   "cell_type": "markdown",
   "id": "bcb8517b-4e2f-42c2-824e-986283c7325f",
   "metadata": {},
   "source": [
    "# 1. Load and Clean the Data\n",
    "We'll use the Heart Disease UCI dataset for this example, as before."
   ]
  },
  {
   "cell_type": "code",
   "execution_count": 33,
   "id": "feeeb3fa-2174-49b8-b802-f4774bffe038",
   "metadata": {},
   "outputs": [],
   "source": [
    "import pandas as pd\n",
    "import statsmodels.api as sm\n",
    "import matplotlib.pyplot as plt\n",
    "import seaborn as sns\n"
   ]
  },
  {
   "cell_type": "code",
   "execution_count": 36,
   "id": "a61bc9c1-1917-4001-9b50-884fce0e8536",
   "metadata": {},
   "outputs": [],
   "source": [
    "# Load dataset from URL\n",
    "url = \"https://archive.ics.uci.edu/ml/machine-learning-databases/heart-disease/processed.cleveland.data\"\n",
    "columns = ['age', 'sex', 'cp', 'trestbps', 'chol', 'fbs', 'restecg', 'thalach', 'exang', 'oldpeak', 'slope', 'ca', 'thal', 'target']\n",
    "\n",
    "# Load the dataset into a DataFrame\n",
    "df = pd.read_csv(url, names=columns, na_values=\"?\")\n",
    "\n",
    "# Drop rows with missing values in 'age' or 'trestbps'\n",
    "df_clean = df[['age', 'trestbps']].dropna()\n",
    "\n",
    "# Independent variable (age)\n",
    "X = df_clean['age']\n",
    "\n",
    "# Dependent variable (resting blood pressure)\n",
    "y = df_clean['trestbps']\n",
    "\n",
    "# Add a constant to the independent variable (to account for the intercept)\n",
    "X = sm.add_constant(X)\n",
    "\n"
   ]
  },
  {
   "cell_type": "markdown",
   "id": "e3757da2-6253-4f7f-821d-2644f27f37d3",
   "metadata": {},
   "source": [
    "# 2. Perform Linear Regression\n",
    "We'll use statsmodels to perform the regression analysis.\n"
   ]
  },
  {
   "cell_type": "code",
   "execution_count": 37,
   "id": "23cf19df-3f25-4c97-8217-ce6df3fb3583",
   "metadata": {},
   "outputs": [
    {
     "name": "stdout",
     "output_type": "stream",
     "text": [
      "                            OLS Regression Results                            \n",
      "==============================================================================\n",
      "Dep. Variable:               trestbps   R-squared:                       0.081\n",
      "Model:                            OLS   Adj. R-squared:                  0.078\n",
      "Method:                 Least Squares   F-statistic:                     26.60\n",
      "Date:                Sun, 08 Sep 2024   Prob (F-statistic):           4.55e-07\n",
      "Time:                        21:36:02   Log-Likelihood:                -1285.6\n",
      "No. Observations:                 303   AIC:                             2575.\n",
      "Df Residuals:                     301   BIC:                             2583.\n",
      "Df Model:                           1                                         \n",
      "Covariance Type:            nonrobust                                         \n",
      "==============================================================================\n",
      "                 coef    std err          t      P>|t|      [0.025      0.975]\n",
      "------------------------------------------------------------------------------\n",
      "const        101.4851      5.936     17.095      0.000      89.803     113.167\n",
      "age            0.5548      0.108      5.157      0.000       0.343       0.767\n",
      "==============================================================================\n",
      "Omnibus:                       22.051   Durbin-Watson:                   1.898\n",
      "Prob(Omnibus):                  0.000   Jarque-Bera (JB):               27.565\n",
      "Skew:                           0.570   Prob(JB):                     1.03e-06\n",
      "Kurtosis:                       3.939   Cond. No.                         338.\n",
      "==============================================================================\n",
      "\n",
      "Notes:\n",
      "[1] Standard Errors assume that the covariance matrix of the errors is correctly specified.\n"
     ]
    }
   ],
   "source": [
    "# Perform the linear regression analysis\n",
    "model = sm.OLS(y, X)  # Ordinary Least Squares regression\n",
    "results = model.fit()\n",
    "\n",
    "# Print the summary of the regression\n",
    "print(results.summary())\n"
   ]
  },
  {
   "cell_type": "markdown",
   "id": "a8495b43-25e4-4295-a0ed-2ad65e34e27e",
   "metadata": {},
   "source": [
    "# Interpretation of the Regression Output:\n",
    "From results.summary(), you’ll get several important values:\n",
    "1.Coefficients (coef): These indicate the impact of the independent variable (age) on the dependent variable (trestbps).\n",
    "    \n",
    "    *Intercept: The value of blood pressure when age is 0.\n",
    "    \n",
    "    *Age: How much resting blood pressure is expected to change for each additional year of age.\n",
    "\n",
    "2.P-values: The p-value tests the null hypothesis that the coefficient is equal to 0 (no effect).\n",
    "    \n",
    "    *A p-value less than 0.05 indicates that the independent variable (age) significantly affects the dependent variable (blood pressure).\n",
    "\n",
    "3.R-squared: This indicates how well the independent variables explain the variance in the dependent variable.\n",
    "\n",
    " *R-squared ranges from 0 to 1, where values closer to 1 indicate a better fit."
   ]
  },
  {
   "cell_type": "markdown",
   "id": "bf01e2f1-6fbc-4444-84e9-7f6144f72d0f",
   "metadata": {},
   "source": [
    "# 3. Visualization\n",
    "Let's create a scatter plot of age vs. resting blood pressure and overlay the regression line to visualize the relationship."
   ]
  },
  {
   "cell_type": "code",
   "execution_count": 38,
   "id": "112ed496-3314-4d03-8414-78720221cb6b",
   "metadata": {},
   "outputs": [
    {
     "data": {
      "image/png": "[encoded data removed]",
      "text/plain": [
       "<Figure size 1000x600 with 1 Axes>"
      ]
     },
     "metadata": {},
     "output_type": "display_data"
    }
   ],
   "source": [
    "# Create a scatter plot of age vs resting blood pressure\n",
    "plt.figure(figsize=(10, 6))\n",
    "sns.scatterplot(x='age', y='trestbps', data=df_clean, color='blue', label=\"Data\")\n",
    "\n",
    "# Plot the regression line\n",
    "predicted_y = results.predict(X)\n",
    "plt.plot(df_clean['age'], predicted_y, color='red', label=\"Regression Line\")\n",
    "\n",
    "# Add titles and labels\n",
    "plt.title('Linear Regression: Age vs Resting Blood Pressure')\n",
    "plt.xlabel('Age')\n",
    "plt.ylabel('Resting Blood Pressure (trestbps)')\n",
    "plt.legend()\n",
    "\n",
    "# Show plot\n",
    "plt.show()\n"
   ]
  },
  {
   "cell_type": "code",
   "execution_count": null,
   "id": "f653db84-7226-468b-9e15-9cf110b6db7e",
   "metadata": {},
   "outputs": [],
   "source": []
  }
 ],
 "metadata": {
  "kernelspec": {
   "display_name": "Python 3 (ipykernel)",
   "language": "python",
   "name": "python3"
  },
  "language_info": {
   "codemirror_mode": {
    "name": "ipython",
    "version": 3
   },
   "file_extension": ".py",
   "mimetype": "text/x-python",
   "name": "python",
   "nbconvert_exporter": "python",
   "pygments_lexer": "ipython3",
   "version": "3.12.4"
  }
 },
 "nbformat": 4,
 "nbformat_minor": 5
}
